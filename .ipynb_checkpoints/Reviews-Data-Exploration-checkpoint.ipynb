{
 "cells": [
  {
   "cell_type": "code",
   "execution_count": 4,
   "metadata": {},
   "outputs": [],
   "source": [
    "%matplotlib inline\n",
    "import os\n",
    "import pandas as pd\n",
    "import numpy as np\n",
    "import matplotlib.pyplot as plt\n",
    "import ast\n",
    "import unicodedata as ud\n",
    "from langdetect import detect\n",
    "pd.options.display.max_rows = 9999\n",
    "plt.style.use('dark_background')"
   ]
  },
  {
   "cell_type": "markdown",
   "metadata": {},
   "source": [
    "Load the data"
   ]
  },
  {
   "cell_type": "code",
   "execution_count": 5,
   "metadata": {},
   "outputs": [
    {
     "data": {
      "text/html": [
       "<div>\n",
       "<style scoped>\n",
       "    .dataframe tbody tr th:only-of-type {\n",
       "        vertical-align: middle;\n",
       "    }\n",
       "\n",
       "    .dataframe tbody tr th {\n",
       "        vertical-align: top;\n",
       "    }\n",
       "\n",
       "    .dataframe thead th {\n",
       "        text-align: right;\n",
       "    }\n",
       "</style>\n",
       "<table border=\"1\" class=\"dataframe\">\n",
       "  <thead>\n",
       "    <tr style=\"text-align: right;\">\n",
       "      <th></th>\n",
       "      <th>useful</th>\n",
       "      <th>date</th>\n",
       "      <th>stars</th>\n",
       "      <th>text</th>\n",
       "    </tr>\n",
       "  </thead>\n",
       "  <tbody>\n",
       "    <tr>\n",
       "      <th>0</th>\n",
       "      <td>0</td>\n",
       "      <td>b'2016-05-28'</td>\n",
       "      <td>5</td>\n",
       "      <td>b\"Love the staff, love the meat, love the plac...</td>\n",
       "    </tr>\n",
       "    <tr>\n",
       "      <th>1</th>\n",
       "      <td>0</td>\n",
       "      <td>b'2016-05-28'</td>\n",
       "      <td>5</td>\n",
       "      <td>b\"Super simple place but amazing nonetheless. ...</td>\n",
       "    </tr>\n",
       "    <tr>\n",
       "      <th>2</th>\n",
       "      <td>0</td>\n",
       "      <td>b'2016-05-28'</td>\n",
       "      <td>5</td>\n",
       "      <td>b\"Small unassuming place that changes their me...</td>\n",
       "    </tr>\n",
       "    <tr>\n",
       "      <th>3</th>\n",
       "      <td>0</td>\n",
       "      <td>b'2016-05-28'</td>\n",
       "      <td>5</td>\n",
       "      <td>b\"Lester's is located in a beautiful neighborh...</td>\n",
       "    </tr>\n",
       "    <tr>\n",
       "      <th>4</th>\n",
       "      <td>0</td>\n",
       "      <td>b'2016-05-28'</td>\n",
       "      <td>4</td>\n",
       "      <td>b\"Love coming here. Yes the place always needs...</td>\n",
       "    </tr>\n",
       "  </tbody>\n",
       "</table>\n",
       "</div>"
      ],
      "text/plain": [
       "   useful           date  stars  \\\n",
       "0       0  b'2016-05-28'      5   \n",
       "1       0  b'2016-05-28'      5   \n",
       "2       0  b'2016-05-28'      5   \n",
       "3       0  b'2016-05-28'      5   \n",
       "4       0  b'2016-05-28'      4   \n",
       "\n",
       "                                                text  \n",
       "0  b\"Love the staff, love the meat, love the plac...  \n",
       "1  b\"Super simple place but amazing nonetheless. ...  \n",
       "2  b\"Small unassuming place that changes their me...  \n",
       "3  b\"Lester's is located in a beautiful neighborh...  \n",
       "4  b\"Love coming here. Yes the place always needs...  "
      ]
     },
     "execution_count": 5,
     "metadata": {},
     "output_type": "execute_result"
    }
   ],
   "source": [
    "reviews = pd.read_csv('./data/review.csv',\n",
    "                      usecols=['useful','text','date','stars'])\n",
    "reviews.head()\n"
   ]
  },
  {
   "cell_type": "code",
   "execution_count": 6,
   "metadata": {
    "scrolled": true
   },
   "outputs": [],
   "source": [
    "def parse_bytes(field):\n",
    "    \"\"\" Convert string represented in Python byte-string literal syntax into a\n",
    "    decoded character string. Other field types returned unchanged.\n",
    "    https://stackoverflow.com/questions/47741235/how-to-read-bytes-object-from-csv\n",
    "    \"\"\"\n",
    "    result = field\n",
    "    try:\n",
    "        result = ast.literal_eval(field)\n",
    "    finally:\n",
    "        return result.decode('utf-8') if isinstance(result, bytes) else field"
   ]
  },
  {
   "cell_type": "code",
   "execution_count": 7,
   "metadata": {},
   "outputs": [],
   "source": [
    "#cleanup\n",
    "reviews['date'] = pd.to_datetime(pd.Series([date[2:-1] for date in reviews['date']]))\n",
    "reviews['text'] = pd.Series([parse_bytes(t) for t in reviews['text']])"
   ]
  },
  {
   "cell_type": "code",
   "execution_count": 8,
   "metadata": {},
   "outputs": [],
   "source": [
    "useful_thres = 5"
   ]
  },
  {
   "cell_type": "markdown",
   "metadata": {},
   "source": [
    "# Exploration\n",
    "What is the date range"
   ]
  },
  {
   "cell_type": "code",
   "execution_count": 13,
   "metadata": {},
   "outputs": [
    {
     "name": "stdout",
     "output_type": "stream",
     "text": [
      "          date\n",
      "min 2004-07-22\n",
      "max 2017-12-11\n"
     ]
    }
   ],
   "source": [
    "print(reviews.agg({'date':['min','max']}))"
   ]
  },
  {
   "cell_type": "markdown",
   "metadata": {},
   "source": [
    "How many reviews each month?"
   ]
  },
  {
   "cell_type": "code",
   "execution_count": 58,
   "metadata": {
    "scrolled": true
   },
   "outputs": [
    {
     "name": "stdout",
     "output_type": "stream",
     "text": [
      "month\n",
      "2004-07-01         1\n",
      "2004-09-01         1\n",
      "2004-10-01         9\n",
      "2004-12-01         3\n",
      "2005-01-01         7\n",
      "2005-02-01         1\n",
      "2005-03-01        51\n",
      "2005-04-01        53\n",
      "2005-05-01        69\n",
      "2005-06-01        26\n",
      "2005-07-01        53\n",
      "2005-08-01        28\n",
      "2005-09-01        35\n",
      "2005-10-01       202\n",
      "2005-11-01       153\n",
      "2005-12-01       192\n",
      "2006-01-01       558\n",
      "2006-02-01       314\n",
      "2006-03-01       210\n",
      "2006-04-01       441\n",
      "2006-05-01       292\n",
      "2006-06-01       327\n",
      "2006-07-01       424\n",
      "2006-08-01       612\n",
      "2006-09-01       590\n",
      "2006-10-01       598\n",
      "2006-11-01       675\n",
      "2006-12-01       628\n",
      "2007-01-01      1227\n",
      "2007-02-01      1435\n",
      "2007-03-01      1911\n",
      "2007-04-01      1339\n",
      "2007-05-01      1506\n",
      "2007-06-01      2053\n",
      "2007-07-01      2225\n",
      "2007-08-01      2404\n",
      "2007-09-01      1991\n",
      "2007-10-01      2196\n",
      "2007-11-01      2606\n",
      "2007-12-01      2127\n",
      "2008-01-01      3322\n",
      "2008-02-01      3033\n",
      "2008-03-01      3485\n",
      "2008-04-01      4293\n",
      "2008-05-01      4128\n",
      "2008-06-01      4504\n",
      "2008-07-01      5194\n",
      "2008-08-01      6525\n",
      "2008-09-01      6464\n",
      "2008-10-01      5972\n",
      "2008-11-01      8321\n",
      "2008-12-01      6312\n",
      "2009-01-01      8825\n",
      "2009-02-01      6451\n",
      "2009-03-01      7445\n",
      "2009-04-01      7628\n",
      "2009-05-01      7650\n",
      "2009-06-01      8051\n",
      "2009-07-01      9130\n",
      "2009-08-01      9551\n",
      "2009-09-01      8894\n",
      "2009-10-01      8200\n",
      "2009-11-01      7772\n",
      "2009-12-01      8691\n",
      "2010-01-01     12554\n",
      "2010-02-01     11290\n",
      "2010-03-01     14033\n",
      "2010-04-01     14487\n",
      "2010-05-01     14096\n",
      "2010-06-01     14423\n",
      "2010-07-01     18713\n",
      "2010-08-01     19933\n",
      "2010-09-01     16669\n",
      "2010-10-01     16191\n",
      "2010-11-01     16862\n",
      "2010-12-01     17822\n",
      "2011-01-01     22496\n",
      "2011-02-01     20810\n",
      "2011-03-01     24035\n",
      "2011-04-01     22438\n",
      "2011-05-01     23391\n",
      "2011-06-01     24909\n",
      "2011-07-01     27722\n",
      "2011-08-01     28893\n",
      "2011-09-01     24415\n",
      "2011-10-01     23836\n",
      "2011-11-01     24220\n",
      "2011-12-01     23768\n",
      "2012-01-01     29527\n",
      "2012-02-01     26241\n",
      "2012-03-01     27947\n",
      "2012-04-01     27687\n",
      "2012-05-01     27756\n",
      "2012-06-01     29759\n",
      "2012-07-01     32842\n",
      "2012-08-01     32082\n",
      "2012-09-01     28972\n",
      "2012-10-01     30114\n",
      "2012-11-01     28634\n",
      "2012-12-01     28820\n",
      "2013-01-01     36555\n",
      "2013-02-01     32680\n",
      "2013-03-01     37581\n",
      "2013-04-01     36904\n",
      "2013-05-01     37817\n",
      "2013-06-01     39113\n",
      "2013-07-01     42751\n",
      "2013-08-01     45148\n",
      "2013-09-01     40906\n",
      "2013-10-01     40999\n",
      "2013-11-01     40440\n",
      "2013-12-01     41701\n",
      "2014-01-01     49527\n",
      "2014-02-01     45680\n",
      "2014-03-01     53248\n",
      "2014-04-01     53143\n",
      "2014-05-01     56027\n",
      "2014-06-01     56953\n",
      "2014-07-01     66724\n",
      "2014-08-01     66630\n",
      "2014-09-01     57908\n",
      "2014-10-01     59151\n",
      "2014-11-01     56308\n",
      "2014-12-01     57052\n",
      "2015-01-01     68905\n",
      "2015-02-01     63598\n",
      "2015-03-01     74463\n",
      "2015-04-01     72121\n",
      "2015-05-01     76338\n",
      "2015-06-01     78992\n",
      "2015-07-01     87022\n",
      "2015-08-01     88266\n",
      "2015-09-01     77280\n",
      "2015-10-01     78651\n",
      "2015-11-01     73747\n",
      "2015-12-01     72104\n",
      "2016-01-01     86535\n",
      "2016-02-01     84425\n",
      "2016-03-01     90259\n",
      "2016-04-01     89153\n",
      "2016-05-01     91275\n",
      "2016-06-01     92760\n",
      "2016-07-01     99818\n",
      "2016-08-01     94622\n",
      "2016-09-01     84934\n",
      "2016-10-01     83327\n",
      "2016-11-01     75972\n",
      "2016-12-01     79837\n",
      "2017-01-01     90722\n",
      "2017-02-01     86751\n",
      "2017-03-01     98636\n",
      "2017-04-01     98938\n",
      "2017-05-01    101673\n",
      "2017-06-01    102172\n",
      "2017-07-01    113394\n",
      "2017-08-01    109166\n",
      "2017-09-01    100731\n",
      "2017-10-01     98711\n",
      "2017-11-01     93230\n",
      "2017-12-01     34394\n",
      "dtype: int64\n"
     ]
    }
   ],
   "source": [
    "print(\n",
    "reviews.\n",
    "    assign(month=reviews.date.map(lambda dt: dt.replace(day=1))).\n",
    "    groupby(['month']).\n",
    "    size()\n",
    ")"
   ]
  },
  {
   "cell_type": "markdown",
   "metadata": {},
   "source": [
    "If we set the useful threshold to 5, how many useful reviews are there each day at the end of the period. And does the proportion change significantly over time."
   ]
  },
  {
   "cell_type": "code",
   "execution_count": 51,
   "metadata": {},
   "outputs": [],
   "source": []
  },
  {
   "cell_type": "code",
   "execution_count": 16,
   "metadata": {
    "scrolled": false
   },
   "outputs": [
    {
     "data": {
      "text/plain": [
       "<matplotlib.lines.Line2D at 0x7f476dd754a8>"
      ]
     },
     "execution_count": 16,
     "metadata": {},
     "output_type": "execute_result"
    },
    {
     "data": {
      "image/png": "[encoded data removed]",
      "text/plain": [
       "<Figure size 432x288 with 1 Axes>"
      ]
     },
     "metadata": {},
     "output_type": "display_data"
    }
   ],
   "source": [
    "dt = pd.to_datetime('2007-01-01')\n",
    "percentuseful=(\n",
    "(reviews.loc[reviews['date'] >= dt].\n",
    " assign(isuseful = reviews.useful >= useful_thres).\n",
    " groupby(['date','isuseful']).\n",
    " size().\n",
    " reset_index().\n",
    " set_index('date').\n",
    " rename(columns={0: \"count\"})\n",
    ").merge(\n",
    " (reviews.loc[reviews['date'] >= dt].\n",
    "     assign(isuseful = reviews.useful >= useful_thres).\n",
    "     groupby(['date']).\n",
    "     size().\n",
    "     to_frame().\n",
    "     rename(columns={0:'totcount'})\n",
    " ), left_index=True,right_index=True\n",
    ").assign(percent = lambda x: x['count']/x['totcount']).\n",
    "query('isuseful')\n",
    ")\n",
    "plt.title(\"Percent of Reviews with at Least 5 Useful Votes\"+\n",
    "         \"\\nred lines indicate date range used\")\n",
    "percentuseful['percent'].plot()\n",
    "plt.axvline(x=pd.to_datetime('2012-01-01'), color='r')\n",
    "plt.axvline(x=pd.to_datetime('2017-12-08'), color='r')\n"
   ]
  },
  {
   "cell_type": "markdown",
   "metadata": {},
   "source": [
    "Interestingly the portion of useful reviews declines over time (likely because there are more of them vieing for useful votes).\n",
    "\n",
    "Dataset ends 12-11-17. Looked at distribution of percentage of overall comments with at least threshold useful votes and it declined greatly after 12-09. Therefore we removed 12-09 to 12-11 from the dataset so as to make sure comments had enough time to garner useful votes. Spans from 2004-07-01, but has fewer than 1000 comments a month until 2007. These early adopters could potentially have different standards than than current users (e.g. some could be tests from the developers to make sure things were working). Therefore we limit to 2007-01-01 through 2017-12-08.\n",
    "\n",
    "Using the same method in http://aclweb.org/anthology/D17-1051 5 useful votes indicates that the review is collectively useful. "
   ]
  },
  {
   "cell_type": "code",
   "execution_count": 12,
   "metadata": {},
   "outputs": [
    {
     "data": {
      "text/plain": [
       "Text(0.5,1,'Percent of Reviews with at Least 5 Useful Votes by Number of Stars')"
      ]
     },
     "execution_count": 12,
     "metadata": {},
     "output_type": "execute_result"
    },
    {
     "data": {
      "image/png": "[encoded data removed]",
      "text/plain": [
       "<Figure size 432x288 with 1 Axes>"
      ]
     },
     "metadata": {},
     "output_type": "display_data"
    }
   ],
   "source": [
    "(reviews.\n",
    "assign(isuseful=(reviews.useful >= useful_thres)*1).\n",
    "groupby(['stars']).\n",
    "agg({'isuseful':['size','sum','mean']}).\n",
    " loc[:,'isuseful'].\n",
    " loc[:,'mean']\n",
    ").plot.bar()\n",
    "plt.title(\"Percent of Reviews with at Least 5 Useful Votes by Number of Stars\")"
   ]
  },
  {
   "cell_type": "markdown",
   "metadata": {},
   "source": [
    "Some reviews are also in a different language (example below). We cut to English reviews"
   ]
  },
  {
   "cell_type": "code",
   "execution_count": 20,
   "metadata": {},
   "outputs": [
    {
     "data": {
      "text/plain": [
       "'役に立つ日が来るかわかりませんが、\\nエディンバラ駅の電車の駅はここなのですが、\\nアナウンスでエディンバラウェバリーって風に聞こえるのでえっ！ここエディンバラ駅であってるのと何回か驚きました。\\n\\nエディンバラウェバリー駅がガイドブックなどにはエディンバラ駅になってるので大丈夫です。恐らく。近くのヘイマーケット駅からこの駅までは歩いても楽しめる道になってますよ。\\n\\n恐らく、多分、エディンバラウェバリー駅があなたのおりたいエディンバラ駅だと思います。\\n\\n念のため確認してくださいねw'"
      ]
     },
     "execution_count": 20,
     "metadata": {},
     "output_type": "execute_result"
    }
   ],
   "source": [
    "b\"\\xe5\\xbd\\xb9\\xe3\\x81\\xab\\xe7\\xab\\x8b\\xe3\\x81\\xa4\\xe6\\x97\\xa5\\xe3\\x81\\x8c\\xe6\\x9d\\xa5\\xe3\\x82\\x8b\\xe3\\x81\\x8b\\xe3\\x82\\x8f\\xe3\\x81\\x8b\\xe3\\x82\\x8a\\xe3\\x81\\xbe\\xe3\\x81\\x9b\\xe3\\x82\\x93\\xe3\\x81\\x8c\\xe3\\x80\\x81\\n\\xe3\\x82\\xa8\\xe3\\x83\\x87\\xe3\\x82\\xa3\\xe3\\x83\\xb3\\xe3\\x83\\x90\\xe3\\x83\\xa9\\xe9\\xa7\\x85\\xe3\\x81\\xae\\xe9\\x9b\\xbb\\xe8\\xbb\\x8a\\xe3\\x81\\xae\\xe9\\xa7\\x85\\xe3\\x81\\xaf\\xe3\\x81\\x93\\xe3\\x81\\x93\\xe3\\x81\\xaa\\xe3\\x81\\xae\\xe3\\x81\\xa7\\xe3\\x81\\x99\\xe3\\x81\\x8c\\xe3\\x80\\x81\\n\\xe3\\x82\\xa2\\xe3\\x83\\x8a\\xe3\\x82\\xa6\\xe3\\x83\\xb3\\xe3\\x82\\xb9\\xe3\\x81\\xa7\\xe3\\x82\\xa8\\xe3\\x83\\x87\\xe3\\x82\\xa3\\xe3\\x83\\xb3\\xe3\\x83\\x90\\xe3\\x83\\xa9\\xe3\\x82\\xa6\\xe3\\x82\\xa7\\xe3\\x83\\x90\\xe3\\x83\\xaa\\xe3\\x83\\xbc\\xe3\\x81\\xa3\\xe3\\x81\\xa6\\xe9\\xa2\\xa8\\xe3\\x81\\xab\\xe8\\x81\\x9e\\xe3\\x81\\x93\\xe3\\x81\\x88\\xe3\\x82\\x8b\\xe3\\x81\\xae\\xe3\\x81\\xa7\\xe3\\x81\\x88\\xe3\\x81\\xa3\\xef\\xbc\\x81\\xe3\\x81\\x93\\xe3\\x81\\x93\\xe3\\x82\\xa8\\xe3\\x83\\x87\\xe3\\x82\\xa3\\xe3\\x83\\xb3\\xe3\\x83\\x90\\xe3\\x83\\xa9\\xe9\\xa7\\x85\\xe3\\x81\\xa7\\xe3\\x81\\x82\\xe3\\x81\\xa3\\xe3\\x81\\xa6\\xe3\\x82\\x8b\\xe3\\x81\\xae\\xe3\\x81\\xa8\\xe4\\xbd\\x95\\xe5\\x9b\\x9e\\xe3\\x81\\x8b\\xe9\\xa9\\x9a\\xe3\\x81\\x8d\\xe3\\x81\\xbe\\xe3\\x81\\x97\\xe3\\x81\\x9f\\xe3\\x80\\x82\\n\\n\\xe3\\x82\\xa8\\xe3\\x83\\x87\\xe3\\x82\\xa3\\xe3\\x83\\xb3\\xe3\\x83\\x90\\xe3\\x83\\xa9\\xe3\\x82\\xa6\\xe3\\x82\\xa7\\xe3\\x83\\x90\\xe3\\x83\\xaa\\xe3\\x83\\xbc\\xe9\\xa7\\x85\\xe3\\x81\\x8c\\xe3\\x82\\xac\\xe3\\x82\\xa4\\xe3\\x83\\x89\\xe3\\x83\\x96\\xe3\\x83\\x83\\xe3\\x82\\xaf\\xe3\\x81\\xaa\\xe3\\x81\\xa9\\xe3\\x81\\xab\\xe3\\x81\\xaf\\xe3\\x82\\xa8\\xe3\\x83\\x87\\xe3\\x82\\xa3\\xe3\\x83\\xb3\\xe3\\x83\\x90\\xe3\\x83\\xa9\\xe9\\xa7\\x85\\xe3\\x81\\xab\\xe3\\x81\\xaa\\xe3\\x81\\xa3\\xe3\\x81\\xa6\\xe3\\x82\\x8b\\xe3\\x81\\xae\\xe3\\x81\\xa7\\xe5\\xa4\\xa7\\xe4\\xb8\\x88\\xe5\\xa4\\xab\\xe3\\x81\\xa7\\xe3\\x81\\x99\\xe3\\x80\\x82\\xe6\\x81\\x90\\xe3\\x82\\x89\\xe3\\x81\\x8f\\xe3\\x80\\x82\\xe8\\xbf\\x91\\xe3\\x81\\x8f\\xe3\\x81\\xae\\xe3\\x83\\x98\\xe3\\x82\\xa4\\xe3\\x83\\x9e\\xe3\\x83\\xbc\\xe3\\x82\\xb1\\xe3\\x83\\x83\\xe3\\x83\\x88\\xe9\\xa7\\x85\\xe3\\x81\\x8b\\xe3\\x82\\x89\\xe3\\x81\\x93\\xe3\\x81\\xae\\xe9\\xa7\\x85\\xe3\\x81\\xbe\\xe3\\x81\\xa7\\xe3\\x81\\xaf\\xe6\\xad\\xa9\\xe3\\x81\\x84\\xe3\\x81\\xa6\\xe3\\x82\\x82\\xe6\\xa5\\xbd\\xe3\\x81\\x97\\xe3\\x82\\x81\\xe3\\x82\\x8b\\xe9\\x81\\x93\\xe3\\x81\\xab\\xe3\\x81\\xaa\\xe3\\x81\\xa3\\xe3\\x81\\xa6\\xe3\\x81\\xbe\\xe3\\x81\\x99\\xe3\\x82\\x88\\xe3\\x80\\x82\\n\\n\\xe6\\x81\\x90\\xe3\\x82\\x89\\xe3\\x81\\x8f\\xe3\\x80\\x81\\xe5\\xa4\\x9a\\xe5\\x88\\x86\\xe3\\x80\\x81\\xe3\\x82\\xa8\\xe3\\x83\\x87\\xe3\\x82\\xa3\\xe3\\x83\\xb3\\xe3\\x83\\x90\\xe3\\x83\\xa9\\xe3\\x82\\xa6\\xe3\\x82\\xa7\\xe3\\x83\\x90\\xe3\\x83\\xaa\\xe3\\x83\\xbc\\xe9\\xa7\\x85\\xe3\\x81\\x8c\\xe3\\x81\\x82\\xe3\\x81\\xaa\\xe3\\x81\\x9f\\xe3\\x81\\xae\\xe3\\x81\\x8a\\xe3\\x82\\x8a\\xe3\\x81\\x9f\\xe3\\x81\\x84\\xe3\\x82\\xa8\\xe3\\x83\\x87\\xe3\\x82\\xa3\\xe3\\x83\\xb3\\xe3\\x83\\x90\\xe3\\x83\\xa9\\xe9\\xa7\\x85\\xe3\\x81\\xa0\\xe3\\x81\\xa8\\xe6\\x80\\x9d\\xe3\\x81\\x84\\xe3\\x81\\xbe\\xe3\\x81\\x99\\xe3\\x80\\x82\\n\\n\\xe5\\xbf\\xb5\\xe3\\x81\\xae\\xe3\\x81\\x9f\\xe3\\x82\\x81\\xe7\\xa2\\xba\\xe8\\xaa\\x8d\\xe3\\x81\\x97\\xe3\\x81\\xa6\\xe3\\x81\\x8f\\xe3\\x81\\xa0\\xe3\\x81\\x95\\xe3\\x81\\x84\\xe3\\x81\\xadw\".decode('utf-8')"
   ]
  },
  {
   "cell_type": "markdown",
   "metadata": {},
   "source": [
    "# Cut down the data"
   ]
  },
  {
   "cell_type": "code",
   "execution_count": 7,
   "metadata": {},
   "outputs": [],
   "source": [
    "# cut to date range\n",
    "reviews = reviews.loc[\n",
    "    (reviews.date>=pd.to_datetime('2012-01-01')) &\n",
    "    (reviews.date<=pd.to_datetime('2017-12-08'))\n",
    "           ].assign(isuseful=(reviews.useful >= useful_thres)*1)"
   ]
  },
  {
   "cell_type": "code",
   "execution_count": 13,
   "metadata": {},
   "outputs": [
    {
     "data": {
      "text/plain": [
       "0    Love the staff, love the meat, love the place....\n",
       "1    Super simple place but amazing nonetheless. It...\n",
       "2    Small unassuming place that changes their menu...\n",
       "3    Lester's is located in a beautiful neighborhoo...\n",
       "4    Love coming here. Yes the place always needs t...\n",
       "Name: text, dtype: object"
      ]
     },
     "execution_count": 13,
     "metadata": {},
     "output_type": "execute_result"
    }
   ],
   "source": [
    "# cut to reviews that are english\n",
    "reviews = reviews.loc[reviews['text'].apply(detect)=='en']\n",
    "\n"
   ]
  },
  {
   "cell_type": "markdown",
   "metadata": {},
   "source": [
    "# Create Train-Test Splits"
   ]
  },
  {
   "cell_type": "code",
   "execution_count": 9,
   "metadata": {},
   "outputs": [
    {
     "name": "stdout",
     "output_type": "stream",
     "text": [
      "# useful reviews: 300449\n",
      "use 240359 for training\n",
      "240359 nonuseful reviews for training\n",
      "X_train shape (480718, 5)\n",
      "X_test shape (120180, 5)\n"
     ]
    }
   ],
   "source": [
    "np.random.seed(42)\n",
    "\n",
    "# cut useful and not into separate datasets\n",
    "useful_reviews = reviews.loc[reviews.isuseful == 1]\n",
    "reviews = reviews.loc[reviews.isuseful == 0]\n",
    "\n",
    "# shuffle\n",
    "useful_reviews = useful_reviews.sample(frac=1).reset_index(drop=True)\n",
    "reviews = reviews.sample(frac=1).reset_index(drop=True)\n",
    "\n",
    "# get counts for 80-20 split\n",
    "num_useful = useful_reviews.shape[0]\n",
    "num_useful_train = round(.8 * num_useful)\n",
    "\n",
    "print('# useful reviews:', num_useful)\n",
    "print('use',num_useful_train,'for training')\n",
    "\n",
    "# train-test split\n",
    "useful_reviews_train = useful_reviews.loc[0:num_useful_train-1]\n",
    "useful_reviews_test = useful_reviews.loc[num_useful_train:]\n",
    "non_useful_reviews_train = reviews.loc[0:num_useful_train-1]\n",
    "non_useful_reviews_test = reviews.loc[num_useful_train:num_useful-1]\n",
    "del reviews\n",
    "del useful_reviews\n",
    "print(non_useful_reviews_train.shape[0],'nonuseful reviews for training')\n",
    "\n",
    "X_train = pd.concat([useful_reviews_train,non_useful_reviews_train])\n",
    "del useful_reviews_train\n",
    "del non_useful_reviews_train\n",
    "\n",
    "X_test = pd.concat([useful_reviews_test,non_useful_reviews_test])\n",
    "del useful_reviews_test\n",
    "del non_useful_reviews_test\n",
    "\n",
    "print(\"X_train shape\",X_train.shape)\n",
    "print(\"X_test shape\",X_test.shape)"
   ]
  },
  {
   "cell_type": "markdown",
   "metadata": {},
   "source": [
    "Save the resulting data"
   ]
  },
  {
   "cell_type": "code",
   "execution_count": 10,
   "metadata": {},
   "outputs": [],
   "source": [
    "X_train.to_pickle('./data/training_dat_eng.pkl')\n",
    "X_test.to_pickle('./data/test_dat_eng.pkl')"
   ]
  },
  {
   "cell_type": "code",
   "execution_count": 74,
   "metadata": {},
   "outputs": [],
   "source": []
  },
  {
   "cell_type": "code",
   "execution_count": null,
   "metadata": {},
   "outputs": [],
   "source": []
  }
 ],
 "metadata": {
  "kernelspec": {
   "display_name": "Python 3",
   "language": "python",
   "name": "python3"
  },
  "language_info": {
   "codemirror_mode": {
    "name": "ipython",
    "version": 3
   },
   "file_extension": ".py",
   "mimetype": "text/x-python",
   "name": "python",
   "nbconvert_exporter": "python",
   "pygments_lexer": "ipython3",
   "version": "3.6.5"
  }
 },
 "nbformat": 4,
 "nbformat_minor": 2
}
